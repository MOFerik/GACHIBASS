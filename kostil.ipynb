{
 "cells": [
  {
   "cell_type": "code",
   "execution_count": 2,
   "id": "4131d3f2",
   "metadata": {},
   "outputs": [
    {
     "name": "stdout",
     "output_type": "stream",
     "text": [
      "{'Казанцева': {'last': 'Казанцева'}, 'Константин Смирнов': {'first': 'Константин', 'last': 'Смирнов'}, 'Сергей Петрович': {'first': 'Сергей', 'last': 'Петрович'}, 'Андрей Василенко': {'first': 'Андрей', 'last': 'Василенко'}, 'Артем': {'first': 'Артем'}, 'Константин': {'first': 'Константин'}, 'Смирнов Константин': {'first': 'Константин', 'last': 'Смирнов'}, 'Сергей': {'first': 'Сергей'}, 'Андрей': {'first': 'Андрей'}} \n",
      "\n",
      "[' на прошлой встрече если вдруг всё-таки мы не влезает 2.000 план я вот повторюсь всё-таки я думаю нам нужно иметь запасной вариант б по которому мы сможем успеть этапности в рамках которых. ']\n"
     ]
    }
   ],
   "source": [
    "import re\n",
    "from natasha import (\n",
    "    Segmenter,\n",
    "    MorphVocab,\n",
    "    NewsEmbedding,\n",
    "    NewsMorphTagger,\n",
    "    NewsSyntaxParser,\n",
    "    NewsNERTagger,\n",
    "    PER,\n",
    "    NamesExtractor,\n",
    "    Doc\n",
    ")\n",
    "\n",
    "segmenter = Segmenter()\n",
    "morph_vocab = MorphVocab()\n",
    "emb = NewsEmbedding()\n",
    "morph_tagger = NewsMorphTagger(emb)\n",
    "syntax_parser = NewsSyntaxParser(emb)\n",
    "ner_tagger = NewsNERTagger(emb)\n",
    "\n",
    "names_extractor = NamesExtractor(morph_vocab)\n",
    "\n",
    "f = open('C:/Users/707/Documents/ssssss.txt', \"rt\")\n",
    "text = f.read()\n",
    "text = text.replace('казанцева', 'Казанцева')\n",
    "text = text.replace('андрей', 'Андрей')\n",
    "text = text.replace('василенко', 'Василенко')\n",
    "text = text.replace('артём', 'Артём')\n",
    "text = text.replace('сергей', 'Сергей')\n",
    "text = text.replace('петрович', 'Петрович')\n",
    "text = text.replace('смирнов', 'Смирнов')\n",
    "text = text.replace('константин', 'Константин')\n",
    "text = text.replace('Ургант', 'ургант')\n",
    "f.close()\n",
    "#open the input file in write mode\n",
    "f = open('C:/Users/707/Documents/ssssss.txt', \"wt\")\n",
    "f.write(text)\n",
    "f.close()\n",
    "\n",
    "with open('C:/Users/707/Documents/ssssss.txt', 'r') as file:\n",
    "    data = file.read().replace('\\n', '')\n",
    "\n",
    "doc = Doc(data)\n",
    "\n",
    "doc.segment(segmenter)\n",
    "doc.tag_morph(morph_tagger)\n",
    "for token in doc.tokens:\n",
    "    token.lemmatize(morph_vocab)\n",
    "doc.parse_syntax(syntax_parser)\n",
    "doc.tag_ner(ner_tagger)\n",
    "for span in doc.spans:\n",
    "    span.normalize(morph_vocab)\n",
    "for span in doc.spans:\n",
    "    if span.type == PER:\n",
    "        span.extract_fact(names_extractor)\n",
    "text = {_.normal: _.fact.as_dict for _ in doc.spans if _.type == PER}\n",
    "print(text,'\\n')\n",
    "\n",
    "trigger_word = 'договорились'\n",
    "my_regex = r\"\" + re.escape(trigger_word) + r\"(.*)Предложение\"\n",
    "\n",
    "result = re.findall(my_regex, data)\n",
    "print(result)"
   ]
  }
 ],
 "metadata": {
  "kernelspec": {
   "display_name": "Python 3",
   "language": "python",
   "name": "python3"
  },
  "language_info": {
   "codemirror_mode": {
    "name": "ipython",
    "version": 3
   },
   "file_extension": ".py",
   "mimetype": "text/x-python",
   "name": "python",
   "nbconvert_exporter": "python",
   "pygments_lexer": "ipython3",
   "version": "3.8.8"
  }
 },
 "nbformat": 4,
 "nbformat_minor": 5
}
