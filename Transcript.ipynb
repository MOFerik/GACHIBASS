{
 "cells": [
  {
   "cell_type": "code",
   "execution_count": 14,
   "id": "2ff58dc3",
   "metadata": {},
   "outputs": [
    {
     "name": "stdout",
     "output_type": "stream",
     "text": [
      "MoviePy - Writing audio in C:/Users/707/Downloads/wav/transcribed_speech.wav\n"
     ]
    },
    {
     "name": "stderr",
     "output_type": "stream",
     "text": [
      "                                                                                                                       \r"
     ]
    },
    {
     "name": "stdout",
     "output_type": "stream",
     "text": [
      "MoviePy - Done.\n",
      "audio-chunks\\chunk1.wav : Вы скажите что это это нарциссично возможно но я заслужил я всю жизнь этим занимался заслужил стать свистком я понимаю конечно цветков всегда будут завидовать либидо репейник торопил потому что их наставники они засоряют вместо вы заставляете место вы заставляете интернет-пространство как правильно заметил станиславский ждет нечто занимай. \n",
      "Вы скажите что это это нарциссично возможно но я заслужил я всю жизнь этим занимался заслужил стать свистком я понимаю конечно цветков всегда будут завидовать либидо репейник торопил потому что их наставники они засоряют вместо вы заставляете место вы заставляете интернет-пространство как правильно заметил станиславский ждет нечто занимай. \n"
     ]
    }
   ],
   "source": [
    "import wave, math, contextlib\n",
    "import speech_recognition as sr\n",
    "from moviepy.editor import AudioFileClip\n",
    "\n",
    "import os\n",
    "from pydub import AudioSegment\n",
    "from pydub.silence import split_on_silence #это для того чтобы разделять код на куски\n",
    "\n",
    "\n",
    "transcribed_audio_file_name = \"C:/Users/707/Downloads/wav/transcribed_speech.wav\"\n",
    "zoom_video_file_name = \"C:/Users/707/Downloads/wav/maestro.mp4\"\n",
    "audioclip = AudioFileClip(zoom_video_file_name)\n",
    "audioclip.write_audiofile(transcribed_audio_file_name)\n",
    "with contextlib.closing(wave.open(transcribed_audio_file_name,'r')) as f:\n",
    "    frames = f.getnframes()\n",
    "    rate = f.getframerate()\n",
    "    duration = frames / float(rate)\n",
    "total_duration = math.ceil(duration / 60)\n",
    "\n",
    "r = sr.Recognizer()\n",
    "sound = AudioSegment.from_wav(transcribed_audio_file_name)\n",
    "chunks = split_on_silence(sound, min_silence_len = 1000, silence_thresh = sound.dBFS-17)\n",
    "folder_name = \"audio-chunks\"\n",
    "if not os.path.isdir(folder_name):\n",
    "    os.mkdir(folder_name)\n",
    "whole_text = \"\"\n",
    "\n",
    "\n",
    "for i, audio_chunk in enumerate(chunks, start=1):\n",
    "        chunk_silent = AudioSegment.silent(duration = 10)\n",
    "        audio_chunk = chunk_silent + audio_chunk + chunk_silent\n",
    "        \n",
    "        chunk_filename = os.path.join(folder_name, f\"chunk{i}.wav\")\n",
    "        audio_chunk.export(chunk_filename, format=\"wav\")\n",
    "        \n",
    "        with sr.AudioFile(chunk_filename) as source:\n",
    "            r.adjust_for_ambient_noise(source, duration=0.2)\n",
    "            audio = r.record(source)\n",
    "            try:\n",
    "                f = open(\"transcription.txt\", \"a\")\n",
    "                f.write(r.recognize_google(audio, language = \"ru-RU\"))\n",
    "                f.write(\" \")\n",
    "                text = r.recognize_google(audio, language='ru-RU')\n",
    "                #allalt = r.recognize_google(audio_listened, language=\"ru-RU\", show_all=True)\n",
    "                #print(allalt)\n",
    "            except sr.UnknownValueError as e:\n",
    "                print(\"Error:\", str(e))\n",
    "            else:\n",
    "                text = f\"{text.capitalize()}. \"\n",
    "                print(chunk_filename, \":\", text)\n",
    "                whole_text += text\n",
    "        print(whole_text)\n",
    "f.close()"
   ]
  },
  {
   "cell_type": "code",
   "execution_count": null,
   "id": "1b062d11",
   "metadata": {},
   "outputs": [],
   "source": []
  }
 ],
 "metadata": {
  "kernelspec": {
   "display_name": "Python 3",
   "language": "python",
   "name": "python3"
  },
  "language_info": {
   "codemirror_mode": {
    "name": "ipython",
    "version": 3
   },
   "file_extension": ".py",
   "mimetype": "text/x-python",
   "name": "python",
   "nbconvert_exporter": "python",
   "pygments_lexer": "ipython3",
   "version": "3.8.8"
  }
 },
 "nbformat": 4,
 "nbformat_minor": 5
}
